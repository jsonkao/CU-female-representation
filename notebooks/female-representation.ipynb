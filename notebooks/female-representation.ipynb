{
 "cells": [
  {
   "cell_type": "code",
   "execution_count": 2,
   "metadata": {},
   "outputs": [],
   "source": [
    "import pandas as pd"
   ]
  },
  {
   "cell_type": "code",
   "execution_count": 1,
   "metadata": {},
   "outputs": [],
   "source": [
    "d = \"\"\"Year 2004 2005 2006 2007 2008 2009 2010 2011 2012 2013\n",
    "Women 1226 1287 1241 1255 1338 1334 1382 1415 1382 1267\n",
    "Men 1216 1199 1213 1226 1264 1209 1251 1332 1350 1312\n",
    "Total 2442 2486 2454 2481 2602 2543 2633 2747 2732 2579\n",
    "%6Women 50% 52% 51% 51% 51% 52% 52% 52% 51% 49%\"\"\"\n",
    "d = d.split('\\n')\n",
    "for "
   ]
  },
  {
   "cell_type": "code",
   "execution_count": null,
   "metadata": {},
   "outputs": [],
   "source": []
  }
 ],
 "metadata": {
  "kernelspec": {
   "display_name": "Python 3",
   "language": "python",
   "name": "python3"
  },
  "language_info": {
   "codemirror_mode": {
    "name": "ipython",
    "version": 3
   },
   "file_extension": ".py",
   "mimetype": "text/x-python",
   "name": "python",
   "nbconvert_exporter": "python",
   "pygments_lexer": "ipython3",
   "version": "3.7.0"
  }
 },
 "nbformat": 4,
 "nbformat_minor": 2
}
